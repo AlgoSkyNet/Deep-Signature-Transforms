{
 "cells": [
  {
   "cell_type": "code",
   "execution_count": null,
   "metadata": {
    "scrolled": false
   },
   "outputs": [],
   "source": [
    "%run base.ipynb\n",
    "%matplotlib inline\n",
    "\n",
    "import iisignature\n",
    "import matplotlib.pyplot as plt\n",
    "import numpy as np\n",
    "import sklearn.preprocessing as preprocessing\n",
    "import torch\n",
    "import torch.optim as optim\n",
    "import torch.utils.data as torchdata\n",
    "\n",
    "import signature_inversion\n",
    "import utils\n",
    "\n",
    "plt.rcParams['axes.labelsize'] = 14\n",
    "plt.rcParams['xtick.labelsize'] = 12\n",
    "plt.rcParams['ytick.labelsize'] = 12"
   ]
  },
  {
   "cell_type": "markdown",
   "metadata": {},
   "source": [
    "## Hyperparameters"
   ]
  },
  {
   "cell_type": "code",
   "execution_count": null,
   "metadata": {},
   "outputs": [],
   "source": [
    "max_epochs = 5000\n",
    "optimizer_fn = lambda x: optim.Adam(x, lr=0.002)"
   ]
  },
  {
   "cell_type": "markdown",
   "metadata": {},
   "source": [
    "## Data"
   ]
  },
  {
   "cell_type": "code",
   "execution_count": null,
   "metadata": {},
   "outputs": [],
   "source": [
    "paths = {\"zero\":  \"29, 97, 0, 57, 22, 10, 68, 0, 100, 40, 83, 90, 37, 100, 12, 57\", \"three\": \"37, 80, 53, 100, 88, 83, 59, 60, 100, 44, 92, 15, 49, 0, 0, 8\", \"six\": \"70, 100, 54, 86, 29, 53, 23, 16, 69, 0, 100, 23, 50, 36, 0, 21\", \"eight\": \"87, 67, 66, 100, 0, 79, 49, 45, 100, 10, 40, 0, 37, 40, 81, 78\"}\n",
    "path = paths[\"three\"]\n",
    "path = np.array(path.split(\",\"), dtype=float).reshape(-1, 2)\n",
    "path = preprocessing.MinMaxScaler(feature_range=(-1, 1)).fit_transform(path)"
   ]
  },
  {
   "cell_type": "code",
   "execution_count": null,
   "metadata": {},
   "outputs": [],
   "source": [
    "order = 12\n",
    "sig = iisignature.sig(path, order).reshape(1, -1)\n",
    "n_steps = len(path)\n",
    "\n",
    "dataloader = torchdata.DataLoader(torchdata.TensorDataset(torch.ones(1, 1, 1),\n",
    "                                                          torch.tensor(sig, dtype=torch.float)))"
   ]
  },
  {
   "cell_type": "markdown",
   "metadata": {},
   "source": [
    "## Define Neural Network model"
   ]
  },
  {
   "cell_type": "code",
   "execution_count": null,
   "metadata": {},
   "outputs": [],
   "source": [
    "batch, output = next(iter(dataloader))"
   ]
  },
  {
   "cell_type": "code",
   "execution_count": null,
   "metadata": {},
   "outputs": [],
   "source": [
    "model = signature_inversion.Invert(n_steps, order, derivatives=False)\n",
    "\n",
    "# We set the initial path to the constant path.\n",
    "# This sometimes helps convergence.\n",
    "model.path.weight = torch.nn.Parameter(data=torch.zeros_like(model.path.weight))\n",
    "\n",
    "loss_fn = signature_inversion.loss_fn(order)"
   ]
  },
  {
   "cell_type": "markdown",
   "metadata": {},
   "source": [
    "## Train Model"
   ]
  },
  {
   "cell_type": "code",
   "execution_count": null,
   "metadata": {},
   "outputs": [],
   "source": [
    "history = {}\n",
    "train_model = utils.create_train_model_fn(max_epochs, optimizer_fn, loss_fn, dataloader, dataloader, batch)"
   ]
  },
  {
   "cell_type": "code",
   "execution_count": null,
   "metadata": {
    "scrolled": true
   },
   "outputs": [],
   "source": [
    "train_model(model, 'SigNet', history, device='cpu')"
   ]
  },
  {
   "cell_type": "markdown",
   "metadata": {},
   "source": [
    "## Results"
   ]
  },
  {
   "cell_type": "code",
   "execution_count": null,
   "metadata": {},
   "outputs": [],
   "source": [
    "fig, axs = plt.subplots(1, 2, gridspec_kw={'wspace': 0.6, 'hspace': 0.6}, figsize=(12, 4))\n",
    "axs = axs.flatten()\n",
    "for i, metric_name in enumerate(('train_loss', 'val_loss')):\n",
    "    ax = axs[i]\n",
    "    for model_history in history.values():\n",
    "        metric = model_history[metric_name]\n",
    "        ax.plot(metric, 'r-', lw=1)\n",
    "    ax.set_xlabel('Epoch')\n",
    "    ax.set_ylabel(metric_name)\n",
    "plt.show()"
   ]
  },
  {
   "cell_type": "code",
   "execution_count": null,
   "metadata": {},
   "outputs": [],
   "source": [
    "generated_path = model.get_path()\n",
    "generated_path += path[0] - generated_path[0]\n",
    "\n",
    "generated_path = signature_inversion.get_tree_reduced(generated_path, tol=0.1)"
   ]
  },
  {
   "cell_type": "code",
   "execution_count": null,
   "metadata": {},
   "outputs": [],
   "source": [
    "signature_inversion.plot(path, label=\"Original path\", linewidth=10, linestyle=\"-\")\n",
    "signature_inversion.plot(generated_path, label=\"Generated path\", linewidth=10, linestyle=\"--\")\n",
    "plt.axis('off')\n",
    "plt.show()"
   ]
  }
 ],
 "metadata": {
  "kernelspec": {
   "display_name": "Python 3",
   "language": "python",
   "name": "python3"
  },
  "language_info": {
   "codemirror_mode": {
    "name": "ipython",
    "version": 3
   },
   "file_extension": ".py",
   "mimetype": "text/x-python",
   "name": "python",
   "nbconvert_exporter": "python",
   "pygments_lexer": "ipython3",
   "version": "3.7.3"
  }
 },
 "nbformat": 4,
 "nbformat_minor": 1
}
