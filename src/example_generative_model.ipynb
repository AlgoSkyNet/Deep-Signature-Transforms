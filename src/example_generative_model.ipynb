{
 "cells": [
  {
   "cell_type": "code",
   "execution_count": null,
   "metadata": {
    "scrolled": false
   },
   "outputs": [],
   "source": [
    "%run base.ipynb\n",
    "%matplotlib inline\n",
    "\n",
    "import matplotlib.pyplot as plt\n",
    "import matplotlib.patches as mpatches\n",
    "import numpy as np\n",
    "import torch\n",
    "import torch.optim as optim\n",
    "import torch.utils.data as torchdata\n",
    "\n",
    "import generative_model\n",
    "import utils\n",
    "\n",
    "plt.rcParams['axes.labelsize'] = 20\n",
    "plt.rcParams['xtick.labelsize'] = 20\n",
    "plt.rcParams['ytick.labelsize'] = 20"
   ]
  },
  {
   "cell_type": "markdown",
   "metadata": {},
   "source": [
    "## Hyperparameters"
   ]
  },
  {
   "cell_type": "code",
   "execution_count": null,
   "metadata": {},
   "outputs": [],
   "source": [
    "train_batch_size = 2 ** 10\n",
    "val_batch_size = 2 ** 10\n",
    "max_epochs = 100\n",
    "\n",
    "optimizer_fn = lambda x: optim.Adam(x, lr=0.01)"
   ]
  },
  {
   "cell_type": "markdown",
   "metadata": {},
   "source": [
    "## Data"
   ]
  },
  {
   "cell_type": "code",
   "execution_count": null,
   "metadata": {},
   "outputs": [],
   "source": [
    "n_points = 100\n",
    "\n",
    "train_dataset = generative_model.get_noise(n_points=n_points, num_samples=train_batch_size)\n",
    "eval_dataset = generative_model.get_noise(n_points=n_points, num_samples=val_batch_size)\n",
    "signals = generative_model.get_signal(num_samples=train_batch_size, n_points=n_points,).tensors[0]\n",
    "\n",
    "train_dataloader = torchdata.DataLoader(train_dataset, batch_size=train_batch_size, shuffle=True, num_workers=8)\n",
    "eval_dataloader = torchdata.DataLoader(eval_dataset, batch_size=val_batch_size, shuffle=False, num_workers=8)"
   ]
  },
  {
   "cell_type": "code",
   "execution_count": null,
   "metadata": {
    "scrolled": false
   },
   "outputs": [],
   "source": [
    "example_batch, _ = next(iter(train_dataloader))\n",
    "example = example_batch[0]\n",
    "\n",
    "print(f'Feature shape: {tuple(example.shape)}')\n",
    "plt.plot(*example.numpy())\n",
    "for path in signals[:100]:\n",
    "    plt.plot(*path.numpy(), \"orange\", alpha=0.1)\n",
    "plt.show()"
   ]
  },
  {
   "cell_type": "code",
   "execution_count": null,
   "metadata": {},
   "outputs": [],
   "source": [
    "# Loss function\n",
    "loss_fn = generative_model.loss(signals, sig_depth=4, normalise_sigs=True)"
   ]
  },
  {
   "cell_type": "markdown",
   "metadata": {},
   "source": [
    "## Define Neural Network model"
   ]
  },
  {
   "cell_type": "code",
   "execution_count": null,
   "metadata": {},
   "outputs": [],
   "source": [
    "model = generative_model.create_generative_model()"
   ]
  },
  {
   "cell_type": "markdown",
   "metadata": {},
   "source": [
    "## Train Model"
   ]
  },
  {
   "cell_type": "code",
   "execution_count": null,
   "metadata": {},
   "outputs": [],
   "source": [
    "history = {}\n",
    "train_model = utils.create_train_model_fn(max_epochs, optimizer_fn, loss_fn, train_dataloader, eval_dataloader, \n",
    "                                          example_batch)"
   ]
  },
  {
   "cell_type": "code",
   "execution_count": null,
   "metadata": {
    "scrolled": true
   },
   "outputs": [],
   "source": [
    "train_model(model, 'SigNet', history)"
   ]
  },
  {
   "cell_type": "markdown",
   "metadata": {},
   "source": [
    "## Results"
   ]
  },
  {
   "cell_type": "code",
   "execution_count": null,
   "metadata": {
    "scrolled": false
   },
   "outputs": [],
   "source": [
    "fig, axs = plt.subplots(1, 2, gridspec_kw={'wspace': 0.6, 'hspace': 0.6}, figsize=(12, 4))\n",
    "axs = axs.flatten()\n",
    "for i, metric_name in enumerate(('train_loss', 'val_loss')):\n",
    "    ax = axs[i]\n",
    "    for model_history in history.values():\n",
    "        metric = model_history[metric_name]\n",
    "\n",
    "        # Moving average\n",
    "        metric = np.convolve(metric, np.ones(10), 'valid') / 10.\n",
    "        ax.semilogy(np.exp(metric))\n",
    "    ax.set_xlabel('Epoch')\n",
    "    ax.set_ylabel(metric_name)\n",
    "plt.show()"
   ]
  },
  {
   "cell_type": "code",
   "execution_count": null,
   "metadata": {},
   "outputs": [],
   "source": [
    "batch, _ = next(iter(eval_dataloader))\n",
    "batch = batch.to(device=next(model.parameters()).device)\n",
    "generated = model(batch).cpu()\n",
    "plt.figure(figsize=(12, 8))\n",
    "plt.plot(generated[50:100].detach().numpy().T, \"b\", alpha=0.2)\n",
    "plt.plot(signals[50:100, 1, :99].detach().numpy().T, \"#ba0404\", alpha=0.2)\n",
    "\n",
    "orange_patch = mpatches.Patch(color='#ba0404', label='Ornstein–Uhlenbeck process')\n",
    "blue_patch = mpatches.Patch(color='blue', label='Generated paths')\n",
    "plt.legend(mode='expand', ncol=2, prop={'size': 18}, bbox_to_anchor=(0, 1, 1, 0), \n",
    "           handles=[blue_patch, orange_patch])\n",
    "plt.ylim([-2,2])\n",
    "plt.yticks([-2, -1, 0, 1, 2])\n",
    "\n",
    "plt.show()"
   ]
  }
 ],
 "metadata": {
  "kernelspec": {
   "display_name": "Python 3",
   "language": "python",
   "name": "python3"
  },
  "language_info": {
   "codemirror_mode": {
    "name": "ipython",
    "version": 3
   },
   "file_extension": ".py",
   "mimetype": "text/x-python",
   "name": "python",
   "nbconvert_exporter": "python",
   "pygments_lexer": "ipython3",
   "version": "3.7.3"
  }
 },
 "nbformat": 4,
 "nbformat_minor": 1
}
